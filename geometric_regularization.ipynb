{
 "cells": [
  {
   "cell_type": "code",
   "execution_count": 8,
   "metadata": {},
   "outputs": [],
   "source": [
    "import jax\n",
    "import jax.numpy as jnp\n",
    "import jax.random as jrandom\n",
    "import numpy as np\n",
    "import matplotlib.pyplot as plt\n",
    "from IPython.display import clear_output\n",
    "%matplotlib inline\n",
    "from tqdm.notebook import tqdm\n",
    "import functools as ft\n",
    "import optax\n",
    "import treex as tx\n",
    "from sdf_jax.discretize import discretize2d\n",
    "from sdf_jax.util import plot2d"
   ]
  },
  {
   "cell_type": "markdown",
   "metadata": {},
   "source": [
    "# Implicit Geometric Regularization\n",
    "\n",
    "\"Implicit Geometric Regularization for Learning Shapes\"\n",
    "Gropp et al. ICML 2020\n",
    "https://arxiv.org/abs/2002.10099\n"
   ]
  },
  {
   "cell_type": "markdown",
   "metadata": {},
   "source": [
    "![](igr_loss.png)"
   ]
  },
  {
   "cell_type": "code",
   "execution_count": 10,
   "metadata": {},
   "outputs": [],
   "source": [
    "def sample_normal_per_point(key, xs, local_sigma=0.01):\n",
    "    key, key_local, key_global = jrandom.split(key, 3)\n",
    "    sample_local = xs + jrandom.normal(key_local, xs.shape) * local_sigma\n",
    "    sample_global = jrandom.uniform(key_global, xs.shape)\n",
    "    return jnp.vstack([sample_local, sample_global])\n",
    "\n",
    "def surface_loss_fn(model, x):\n",
    "    return jnp.abs(x)\n",
    "\n",
    "def eikonal_loss_fn(model, x):\n",
    "    return (jnp.linalg.norm(jax.grad(model)(x)) - 1.0)**2\n",
    "\n",
    "@ft.partial(jax.value_and_grad, has_aux=True)\n",
    "def loss_fn(params, model, xs, lam, key):\n",
    "    model = model.merge(params)\n",
    "    surface_loss = jnp.mean(jax.vmap(ft.partial(surface_loss_fn, model))(xs))\n",
    "    xs_eik = sample_normal_per_point(key, xs)\n",
    "    eikonal_loss = jnp.mean(jax.vmap(ft.partial(eikonal_loss_fn, model))(xs_eik))\n",
    "    loss = surface_loss + lam * eikonal_loss\n",
    "    return loss, model\n",
    "\n",
    "@jax.jit\n",
    "def train_step(model, xs, lam, optimizer, key):\n",
    "    params = model.filter(tx.Parameter)\n",
    "    (loss, model), grads = loss_fn(params, model, xs, lam, key)\n",
    "    new_params = optimizer.update(grads, params)\n",
    "    model = model.merge(new_params)\n",
    "    return loss, model, optimizer"
   ]
  },
  {
   "cell_type": "code",
   "execution_count": 11,
   "metadata": {},
   "outputs": [
    {
     "data": {
      "text/plain": [
       "<matplotlib.legend.Legend at 0x7f61db885700>"
      ]
     },
     "execution_count": 11,
     "metadata": {},
     "output_type": "execute_result"
    },
    {
     "data": {
      "image/png": "[encoded data removed]",
      "text/plain": [
       "<Figure size 360x360 with 1 Axes>"
      ]
     },
     "metadata": {
      "needs_background": "light"
     },
     "output_type": "display_data"
    }
   ],
   "source": [
    "def sample_circle(key, nsamples=14, radius=0.3, center=jnp.array([0.5, 0.5])):\n",
    "    key, theta_key = jrandom.split(key, 2)\n",
    "    theta = 2 * jnp.pi * jrandom.uniform(theta_key, (nsamples,))\n",
    "    xs = center + radius * jnp.vstack([jnp.cos(theta), jnp.sin(theta)]).T\n",
    "    return xs\n",
    "\n",
    "key = jrandom.PRNGKey(0)\n",
    "xs = sample_circle(key)\n",
    "fig, ax = plt.subplots(1, 1, figsize=(5,5))\n",
    "ax.scatter(*xs.T, label=\"point cloud\")\n",
    "ax.scatter(*sample_normal_per_point(key, xs).T, s=20, label=\"eik samples\")\n",
    "ax.legend()"
   ]
  },
  {
   "cell_type": "code",
   "execution_count": 33,
   "metadata": {},
   "outputs": [
    {
     "name": "stdout",
     "output_type": "stream",
     "text": [
      "(14, 2)\n"
     ]
    },
    {
     "data": {
      "application/vnd.jupyter.widget-view+json": {
       "model_id": "e4b91b2688344f27a8b696a45d4c8d24",
       "version_major": 2,
       "version_minor": 0
      },
      "text/plain": [
       "  0%|          | 0/10 [00:00<?, ?it/s]"
      ]
     },
     "metadata": {},
     "output_type": "display_data"
    },
    {
     "name": "stdout",
     "output_type": "stream",
     "text": [
      "[0] loss: 1.6141\n",
      "[1] loss: nan\n",
      "[2] loss: nan\n",
      "[3] loss: nan\n",
      "[4] loss: nan\n",
      "[5] loss: nan\n",
      "[6] loss: nan\n",
      "[7] loss: nan\n",
      "[8] loss: nan\n",
      "[9] loss: nan\n",
      "[9] loss: nan\n"
     ]
    },
    {
     "data": {
      "image/png": "[encoded data removed]",
      "text/plain": [
       "<Figure size 450x216 with 3 Axes>"
      ]
     },
     "metadata": {
      "needs_background": "light"
     },
     "output_type": "display_data"
    }
   ],
   "source": [
    "from typing import Callable, List\n",
    "\n",
    "def softplus(x, beta=100):\n",
    "    return jnp.logaddexp(beta*x, 0) / beta\n",
    "\n",
    "class NeuralSDF(tx.Module):\n",
    "    hidden_layers: List[tx.Linear]\n",
    "    final_layer: tx.Linear\n",
    "    def __init__(\n",
    "        self, \n",
    "        input_dim: int, \n",
    "        depth: int, \n",
    "        hidden: int, \n",
    "        act: Callable=softplus,\n",
    "        radius_init=1.0,\n",
    "    ):\n",
    "        self.input_dim = input_dim\n",
    "        self.depth = depth\n",
    "        self.hidden = hidden\n",
    "        self.act = act\n",
    "        self.radius_init = radius_init\n",
    "\n",
    "        hidden_layers = []\n",
    "        for i in range(self.depth):\n",
    "\n",
    "            # prepare skip connection one layer earlier\n",
    "            if i == 2:\n",
    "                h = self.hidden - self.input_dim \n",
    "            else: \n",
    "                h = self.hidden\n",
    "\n",
    "             # geometric initialization\n",
    "            if i == self.depth:\n",
    "                def kernel_init(key, shape, dtype):\n",
    "                    mean = np.sqrt(np.pi) / np.sqrt(h)\n",
    "                    stddev = 0.00001\n",
    "                    return mean + stddev * jrandom.normal(key, shape, dtype)\n",
    "                layer = tx.Linear(\n",
    "                    h, \n",
    "                    kernel_init=kernel_init,\n",
    "                    bias_init=jax.nn.initializers.constant(-self.radius_init),\n",
    "                )\n",
    "            else:\n",
    "                layer = tx.Linear(\n",
    "                    h,\n",
    "                    kernel_init=jax.nn.initializers.normal(np.sqrt(2) / np.sqrt(h)),\n",
    "                    bias_init=jax.nn.initializers.constant(0.0),\n",
    "                )\n",
    "            hidden_layers += [layer]\n",
    "        self.hidden_layers = hidden_layers\n",
    "        self.final_layer = tx.Linear(1)\n",
    "\n",
    "    def __call__(self, x):\n",
    "        assert x.ndim == 1\n",
    "\n",
    "        # x is assumed in [0,1]^2\n",
    "        # we now rescale to [-1,1]^2 for geometric init to work\n",
    "        x = 2*x - 1.0\n",
    "\n",
    "        y = x\n",
    "        for (i, layer) in enumerate(self.hidden_layers):\n",
    "            # skip connection to the fourth layer\n",
    "            if i + 1 == 4:\n",
    "                y = jnp.concatenate([y, x])\n",
    "            y = layer(y)\n",
    "            y = self.act(y)\n",
    "        y = self.final_layer(y)\n",
    "        return y[0]\n",
    "\n",
    "def print_callback(step, loss, model, optimizer):\n",
    "    print(f\"[{step}] loss: {loss:.4f}\")\n",
    "\n",
    "def fit(\n",
    "    xs,\n",
    "    # module\n",
    "    depth=7,\n",
    "    hidden=64,\n",
    "    act=softplus,\n",
    "    lam=1.0,\n",
    "    # optimizer\n",
    "    key=jrandom.PRNGKey(1234),\n",
    "    lr=5e-3,\n",
    "    steps=100,\n",
    "    # utils\n",
    "    cb=print_callback,\n",
    "    cb_every=10,\n",
    "):\n",
    "    key, model_key = jrandom.split(key, 2)\n",
    "    model = NeuralSDF(input_dim=2, depth=7, hidden=hidden, act=act).init(model_key, xs[0])\n",
    "    optimizer = tx.Optimizer(optax.adam(lr))\n",
    "    optimizer = optimizer.init(model.filter(tx.Parameter))\n",
    "    for step in tqdm(range(steps)):\n",
    "        key, step_key = jrandom.split(key, 2)\n",
    "        loss, model, optimizer = train_step(model, xs, lam, optimizer, step_key)\n",
    "        if step % cb_every == 0:\n",
    "            cb(step, loss, model, optimizer)\n",
    "    cb(step, loss, model, optimizer)\n",
    "    return loss, model\n",
    "\n",
    "key = jax.random.PRNGKey(0)\n",
    "xs = sample_circle(key)\n",
    "print(xs.shape)\n",
    "loss, model = fit(xs, steps=10, cb_every=1, act=jax.nn.relu)\n",
    "plot2d(model)"
   ]
  },
  {
   "cell_type": "code",
   "execution_count": 36,
   "metadata": {},
   "outputs": [
    {
     "name": "stderr",
     "output_type": "stream",
     "text": [
      "/home/niku/Documents/cloud/tu/cgproject/neuralsdf_jax/sdf_jax/util.py:17: UserWarning: No contour levels were found within the data range.\n",
      "  ax1.contour(ys, levels=[0.])\n"
     ]
    },
    {
     "data": {
      "image/png": "[encoded data removed]",
      "text/plain": [
       "<Figure size 450x216 with 3 Axes>"
      ]
     },
     "metadata": {
      "needs_background": "light"
     },
     "output_type": "display_data"
    }
   ],
   "source": [
    "init_model = NeuralSDF(input_dim=2, depth=7, hidden=64).init(jrandom.PRNGKey(1234), inputs=xs[0])\n",
    "plot2d(init_model)"
   ]
  },
  {
   "cell_type": "code",
   "execution_count": 37,
   "metadata": {},
   "outputs": [
    {
     "data": {
      "application/vnd.jupyter.widget-view+json": {
       "model_id": "2759bd05b94245ee883f8c97fa4db06b",
       "version_major": 2,
       "version_minor": 0
      },
      "text/plain": [
       "  0%|          | 0/100 [00:00<?, ?it/s]"
      ]
     },
     "metadata": {},
     "output_type": "display_data"
    },
    {
     "name": "stdout",
     "output_type": "stream",
     "text": [
      "[0] loss: 0.5326\n",
      "[10] loss: 0.5326\n",
      "[20] loss: 0.5326\n",
      "[30] loss: 0.5326\n",
      "[40] loss: 0.5326\n",
      "[50] loss: 0.5326\n",
      "[60] loss: 0.5326\n",
      "[70] loss: 0.5326\n",
      "[80] loss: 0.5326\n",
      "[90] loss: 0.5326\n",
      "[99] loss: 0.5326\n"
     ]
    },
    {
     "data": {
      "image/png": "[encoded data removed]",
      "text/plain": [
       "<Figure size 450x216 with 3 Axes>"
      ]
     },
     "metadata": {
      "needs_background": "light"
     },
     "output_type": "display_data"
    }
   ],
   "source": [
    "loss, model = fit(xs, act=jax.nn.softplus, lam=0.0)\n",
    "plot2d(model)"
   ]
  },
  {
   "cell_type": "markdown",
   "metadata": {},
   "source": [
    "TODO: geometric init\n",
    "\n",
    "TODO: sampling of eikonal points as in paper"
   ]
  },
  {
   "cell_type": "code",
   "execution_count": 56,
   "metadata": {},
   "outputs": [
    {
     "data": {
      "text/plain": [
       "<CompiledFunction of <function softplus at 0x7fe422920160>>"
      ]
     },
     "execution_count": 56,
     "metadata": {},
     "output_type": "execute_result"
    }
   ],
   "source": [
    "jax.nn.softplus"
   ]
  },
  {
   "cell_type": "code",
   "execution_count": null,
   "metadata": {},
   "outputs": [],
   "source": []
  }
 ],
 "metadata": {
  "kernelspec": {
   "display_name": "Python 3.8.13 ('cg')",
   "language": "python",
   "name": "python3"
  },
  "language_info": {
   "codemirror_mode": {
    "name": "ipython",
    "version": 3
   },
   "file_extension": ".py",
   "mimetype": "text/x-python",
   "name": "python",
   "nbconvert_exporter": "python",
   "pygments_lexer": "ipython3",
   "version": "3.8.13"
  },
  "orig_nbformat": 4,
  "vscode": {
   "interpreter": {
    "hash": "d1a8db72fa245dceca58952337fc626e5e0d3c2b0fa1111097c70d5deb51de41"
   }
  }
 },
 "nbformat": 4,
 "nbformat_minor": 2
}
