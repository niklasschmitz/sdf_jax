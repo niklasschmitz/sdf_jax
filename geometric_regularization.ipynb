{
 "cells": [
  {
   "cell_type": "code",
   "execution_count": 1,
   "metadata": {},
   "outputs": [],
   "source": [
    "import jax\n",
    "import jax.numpy as jnp\n",
    "import jax.random as jrandom\n",
    "import numpy as np\n",
    "import matplotlib.pyplot as plt\n",
    "from IPython.display import clear_output\n",
    "%matplotlib inline\n",
    "import functools as ft\n",
    "import optax\n",
    "import treex as tx\n",
    "from sdf_jax import SimpleNeuralSDF, plot2d, print_callback"
   ]
  },
  {
   "cell_type": "markdown",
   "metadata": {},
   "source": [
    "# Implicit Geometric Regularization\n",
    "\n",
    "\"Implicit Geometric Regularization for Learning Shapes\"\n",
    "Gropp et al. ICML 2020\n",
    "https://arxiv.org/abs/2002.10099\n"
   ]
  },
  {
   "cell_type": "markdown",
   "metadata": {},
   "source": [
    "![](igr_loss.png)"
   ]
  },
  {
   "cell_type": "code",
   "execution_count": 11,
   "metadata": {},
   "outputs": [],
   "source": [
    "def surface_loss_fn(model, x):\n",
    "    return jnp.abs(x)\n",
    "\n",
    "def eikonal_loss_fn(model, x):\n",
    "    return (jnp.linalg.norm(jax.grad(model)(x)) - 1.0)**2\n",
    "\n",
    "@ft.partial(jax.value_and_grad, has_aux=True)\n",
    "def loss_fn(params, model, xs, lam, key, *, n_samples=20):\n",
    "    model = model.merge(params)\n",
    "    surface_loss = jnp.mean(jax.vmap(ft.partial(surface_loss_fn, model))(xs))\n",
    "    xs_eik = jrandom.normal(key, (n_samples, 2))\n",
    "    eikonal_loss = jnp.mean(jax.vmap(ft.partial(eikonal_loss_fn, model))(xs_eik))\n",
    "    return surface_loss + eikonal_loss, model\n",
    "\n",
    "@jax.jit\n",
    "def train_step(model, xs, lam, optimizer, key):\n",
    "    params = model.filter(tx.Parameter)\n",
    "    (loss, model), grads = loss_fn(params, model, xs, lam, key)\n",
    "    new_params = optimizer.update(grads, params)\n",
    "    model = model.merge(new_params)\n",
    "    return loss, model, optimizer"
   ]
  },
  {
   "cell_type": "code",
   "execution_count": 12,
   "metadata": {},
   "outputs": [
    {
     "data": {
      "text/plain": [
       "<matplotlib.collections.PathCollection at 0x7ff058d0a430>"
      ]
     },
     "execution_count": 12,
     "metadata": {},
     "output_type": "execute_result"
    },
    {
     "data": {
      "image/png": "[encoded data removed]",
      "text/plain": [
       "<Figure size 432x288 with 1 Axes>"
      ]
     },
     "metadata": {
      "needs_background": "light"
     },
     "output_type": "display_data"
    }
   ],
   "source": [
    "key = jax.random.PRNGKey(0)\n",
    "key, theta_key = jrandom.split(key, 2)\n",
    "theta = 2 * jnp.pi * jrandom.uniform(theta_key, (14,))\n",
    "xs = jnp.vstack([jnp.cos(theta), jnp.sin(theta)]).T\n",
    "plt.scatter(*xs.T)"
   ]
  },
  {
   "cell_type": "code",
   "execution_count": 21,
   "metadata": {},
   "outputs": [
    {
     "name": "stdout",
     "output_type": "stream",
     "text": [
      "(30, 2)\n",
      "[0] loss: 0.8978\n",
      "[10] loss: 0.6729\n",
      "[20] loss: 0.6537\n",
      "[30] loss: 0.6477\n",
      "[40] loss: 0.6459\n",
      "[50] loss: 0.6405\n",
      "[60] loss: 0.6401\n",
      "[70] loss: 0.6409\n",
      "[80] loss: 0.6374\n",
      "[90] loss: 0.6387\n"
     ]
    },
    {
     "data": {
      "image/png": "[encoded data removed]",
      "text/plain": [
       "<Figure size 450x216 with 3 Axes>"
      ]
     },
     "metadata": {
      "needs_background": "light"
     },
     "output_type": "display_data"
    }
   ],
   "source": [
    "def fit(\n",
    "    xs,\n",
    "    # module\n",
    "    dims=[50,50],\n",
    "    act=jax.nn.relu,\n",
    "    lam=1.0,\n",
    "    # optimizer\n",
    "    key=jrandom.PRNGKey(1234),\n",
    "    lr=5e-3,\n",
    "    steps=100,\n",
    "    # utils\n",
    "    cb=print_callback,\n",
    "    cb_every=10,\n",
    "):\n",
    "    key, model_key = jrandom.split(key, 2)\n",
    "    model = SimpleNeuralSDF(dims=dims, act=act).init(model_key, xs[0])\n",
    "    optimizer = tx.Optimizer(optax.adam(lr))\n",
    "    optimizer = optimizer.init(model.filter(tx.Parameter))\n",
    "    for step in range(steps):\n",
    "        key, step_key = jrandom.split(key, 2)\n",
    "        loss, model, optimizer = train_step(model, xs, lam, optimizer, step_key)\n",
    "        if step % cb_every == 0:\n",
    "            cb(step, loss, model, optimizer)\n",
    "    return loss, model\n",
    "\n",
    "key = jax.random.PRNGKey(0)\n",
    "key, theta_key = jrandom.split(key, 2)\n",
    "theta = 2 * jnp.pi * jrandom.uniform(theta_key, (30,))\n",
    "xs = jnp.vstack([jnp.cos(theta), jnp.sin(theta)]).T\n",
    "print(xs.shape)\n",
    "loss, model = fit(xs)\n",
    "plot2d(model)"
   ]
  },
  {
   "cell_type": "code",
   "execution_count": 20,
   "metadata": {},
   "outputs": [
    {
     "name": "stdout",
     "output_type": "stream",
     "text": [
      "[0] loss: 0.8769\n",
      "[10] loss: 0.6599\n",
      "[20] loss: 0.6360\n",
      "[30] loss: 0.6377\n",
      "[40] loss: 0.6351\n",
      "[50] loss: 0.6348\n",
      "[60] loss: 0.6343\n",
      "[70] loss: 0.6342\n",
      "[80] loss: 0.6342\n",
      "[90] loss: 0.6342\n"
     ]
    },
    {
     "data": {
      "image/png": "[encoded data removed]",
      "text/plain": [
       "<Figure size 450x216 with 3 Axes>"
      ]
     },
     "metadata": {
      "needs_background": "light"
     },
     "output_type": "display_data"
    }
   ],
   "source": [
    "loss, model = fit(xs, act=jax.nn.softplus, lam=0.0)\n",
    "plot2d(model)"
   ]
  },
  {
   "cell_type": "code",
   "execution_count": null,
   "metadata": {},
   "outputs": [],
   "source": []
  }
 ],
 "metadata": {
  "kernelspec": {
   "display_name": "Python 3.8.13 ('cg')",
   "language": "python",
   "name": "python3"
  },
  "language_info": {
   "codemirror_mode": {
    "name": "ipython",
    "version": 3
   },
   "file_extension": ".py",
   "mimetype": "text/x-python",
   "name": "python",
   "nbconvert_exporter": "python",
   "pygments_lexer": "ipython3",
   "version": "3.8.13"
  },
  "orig_nbformat": 4,
  "vscode": {
   "interpreter": {
    "hash": "d1a8db72fa245dceca58952337fc626e5e0d3c2b0fa1111097c70d5deb51de41"
   }
  }
 },
 "nbformat": 4,
 "nbformat_minor": 2
}
