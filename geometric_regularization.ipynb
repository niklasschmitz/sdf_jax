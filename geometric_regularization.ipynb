{
 "cells": [
  {
   "cell_type": "code",
   "execution_count": 54,
   "metadata": {},
   "outputs": [],
   "source": [
    "import jax\n",
    "import jax.numpy as jnp\n",
    "import jax.random as jrandom\n",
    "import numpy as np\n",
    "import matplotlib.pyplot as plt\n",
    "from IPython.display import clear_output\n",
    "%matplotlib inline\n",
    "import functools as ft\n",
    "import optax\n",
    "import equinox as eqx\n",
    "from sdf_jax import NeuralSDF, plot2d"
   ]
  },
  {
   "cell_type": "markdown",
   "metadata": {},
   "source": [
    "# Implicit Geometric Regularization\n",
    "\n",
    "\"Implicit Geometric Regularization for Learning Shapes\"\n",
    "Gropp et al. ICML 2020\n",
    "https://arxiv.org/abs/2002.10099\n"
   ]
  },
  {
   "cell_type": "markdown",
   "metadata": {},
   "source": [
    "![](igr_loss.png)"
   ]
  },
  {
   "cell_type": "code",
   "execution_count": 64,
   "metadata": {},
   "outputs": [],
   "source": [
    "def surface_loss_fn(model, x):\n",
    "    return jnp.abs(x)\n",
    "\n",
    "def eikonal_loss_fn(model, x):\n",
    "    return (jnp.linalg.norm(jax.grad(model)(x)) - 1.0)**2\n",
    "\n",
    "def batch_loss_fn(model, xs, key, *, lam, n_samples=20):\n",
    "    surface_loss = jnp.mean(jax.vmap(ft.partial(surface_loss_fn, model))(xs))\n",
    "    xs_eik = jrandom.uniform(key, (n_samples, 2))\n",
    "    eikonal_loss = jnp.mean(jax.vmap(ft.partial(eikonal_loss_fn, model))(xs))\n",
    "    return surface_loss + eikonal_loss\n",
    "\n",
    "@eqx.filter_jit\n",
    "def make_step(model, xs, opt_state, opt_update, lam, key):\n",
    "    loss_fn = eqx.filter_value_and_grad(batch_loss_fn)\n",
    "    loss, grads = loss_fn(model, xs, key, lam=lam)\n",
    "    updates, opt_state = opt_update(grads, opt_state)\n",
    "    model = eqx.apply_updates(model, updates)\n",
    "    return loss, model, opt_state"
   ]
  },
  {
   "cell_type": "code",
   "execution_count": 65,
   "metadata": {},
   "outputs": [
    {
     "data": {
      "text/plain": [
       "<matplotlib.collections.PathCollection at 0x7fbad51e3b80>"
      ]
     },
     "execution_count": 65,
     "metadata": {},
     "output_type": "execute_result"
    },
    {
     "data": {
      "image/png": "[encoded data removed]",
      "text/plain": [
       "<Figure size 432x288 with 1 Axes>"
      ]
     },
     "metadata": {
      "needs_background": "light"
     },
     "output_type": "display_data"
    }
   ],
   "source": [
    "key = jax.random.PRNGKey(0)\n",
    "key, theta_key = jrandom.split(key, 2)\n",
    "theta = 2 * jnp.pi * jrandom.uniform(theta_key, (14,))\n",
    "xs = jnp.vstack([jnp.cos(theta), jnp.sin(theta)]).T\n",
    "plt.scatter(*xs.T)"
   ]
  },
  {
   "cell_type": "code",
   "execution_count": 66,
   "metadata": {},
   "outputs": [
    {
     "data": {
      "text/plain": [
       "DeviceArray([[ 0.01673735,  0.9998599 ],\n",
       "             [ 0.01673735,  0.9998599 ],\n",
       "             [-0.48378474,  0.87518704]], dtype=float32)"
      ]
     },
     "execution_count": 66,
     "metadata": {},
     "output_type": "execute_result"
    }
   ],
   "source": [
    "jrandom.choice(key, xs, (3,))"
   ]
  },
  {
   "cell_type": "code",
   "execution_count": 71,
   "metadata": {},
   "outputs": [
    {
     "name": "stdout",
     "output_type": "stream",
     "text": [
      "Step=499 Loss=0.6308706998825073\n"
     ]
    },
    {
     "data": {
      "image/png": "[encoded data removed]",
      "text/plain": [
       "<Figure size 450x216 with 3 Axes>"
      ]
     },
     "metadata": {
      "needs_background": "light"
     },
     "output_type": "display_data"
    }
   ],
   "source": [
    "num_steps = 500\n",
    "batch_size = 10\n",
    "lr = 5e-3\n",
    "print_every = 50\n",
    "lam = 1.0\n",
    "\n",
    "key = jax.random.PRNGKey(0)\n",
    "key, theta_key = jrandom.split(key, 2)\n",
    "theta = 2 * jnp.pi * jrandom.uniform(theta_key, (14,))\n",
    "xs = jnp.vstack([jnp.cos(theta), jnp.sin(theta)]).T\n",
    "print(xs.shape)\n",
    "\n",
    "key, model_key, data_key = jrandom.split(key, 3)\n",
    "model = NeuralSDF(in_size=2, \n",
    "                  width_size=5, \n",
    "                  depth=3, \n",
    "                  activation=jax.nn.softplus,\n",
    "                  key=model_key)\n",
    "opt = optax.adam(lr)\n",
    "opt_state = opt.init(eqx.filter(model, eqx.is_inexact_array))\n",
    "for i in range(num_steps):\n",
    "    key, batch_key, loss_key = jrandom.split(key, 3)\n",
    "    xs_batch = jrandom.choice(batch_key, xs, (batch_size,))\n",
    "    loss, model, opt_state = make_step(model, xs_batch, opt_state, opt.update, lam, loss_key)\n",
    "    if (i % print_every) == 0 or i == num_steps - 1:\n",
    "        clear_output(True)\n",
    "        print(f\"Step={i} Loss={loss}\")\n",
    "        plot2d(model, ngrid=50)\n",
    "        plt.show()"
   ]
  }
 ],
 "metadata": {
  "kernelspec": {
   "display_name": "Python 3.8.13 ('cg')",
   "language": "python",
   "name": "python3"
  },
  "language_info": {
   "codemirror_mode": {
    "name": "ipython",
    "version": 3
   },
   "file_extension": ".py",
   "mimetype": "text/x-python",
   "name": "python",
   "nbconvert_exporter": "python",
   "pygments_lexer": "ipython3",
   "version": "3.8.13"
  },
  "orig_nbformat": 4,
  "vscode": {
   "interpreter": {
    "hash": "d1a8db72fa245dceca58952337fc626e5e0d3c2b0fa1111097c70d5deb51de41"
   }
  }
 },
 "nbformat": 4,
 "nbformat_minor": 2
}
