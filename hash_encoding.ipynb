{
 "cells": [
  {
   "cell_type": "markdown",
   "metadata": {},
   "source": [
    "# Multiresolution Hash Encoding"
   ]
  },
  {
   "cell_type": "code",
   "execution_count": 1,
   "metadata": {},
   "outputs": [
    {
     "name": "stderr",
     "output_type": "stream",
     "text": [
      "WARNING:absl:No GPU/TPU found, falling back to CPU. (Set TF_CPP_MIN_LOG_LEVEL=0 and rerun for more info.)\n"
     ]
    },
    {
     "data": {
      "image/png": "[encoded data removed]",
      "text/plain": [
       "<Figure size 450x216 with 3 Axes>"
      ]
     },
     "metadata": {
      "needs_background": "light"
     },
     "output_type": "display_data"
    }
   ],
   "source": [
    "import jax\n",
    "import jax.numpy as jnp\n",
    "import jax.random as jrandom\n",
    "from jax.config import config\n",
    "config.update(\"jax_enable_x64\", True)  # TODO how to embrace int32 overflow for hashing in JAX?\n",
    "import numpy as np\n",
    "import matplotlib.pyplot as plt\n",
    "from IPython.display import clear_output\n",
    "%matplotlib inline\n",
    "import functools as ft\n",
    "import optax\n",
    "import treex as tx\n",
    "from sdf_jax import plot2d, discretize2d\n",
    "from sdf_jax import SimpleNeuralSDF, train_step\n",
    "\n",
    "\n",
    "def sdf_sphere(x):\n",
    "    return jnp.linalg.norm(x) - 1\n",
    "\n",
    "plot2d(sdf_sphere, ngrid=20)"
   ]
  },
  {
   "cell_type": "markdown",
   "metadata": {},
   "source": [
    "## Benchmark Multiresolution Hash Enconding"
   ]
  },
  {
   "cell_type": "code",
   "execution_count": 2,
   "metadata": {},
   "outputs": [
    {
     "data": {
      "text/plain": [
       "(16, 16384, 2)"
      ]
     },
     "execution_count": 2,
     "metadata": {},
     "output_type": "execute_result"
    }
   ],
   "source": [
    "import hash_encoding\n",
    "# x = jnp.array([1.1, 2.2, 1.3])\n",
    "x = jnp.array([1.1, 2.2])\n",
    "key = jrandom.PRNGKey(1234)\n",
    "key, theta_key = jrandom.split(key, 2)\n",
    "theta = hash_encoding.init_encoding(theta_key)\n",
    "theta.shape"
   ]
  },
  {
   "cell_type": "code",
   "execution_count": 3,
   "metadata": {},
   "outputs": [
    {
     "data": {
      "text/plain": [
       "DeviceArray([[-5.02064431e-05, -3.78377564e-05],\n",
       "             [ 2.09385879e-05, -7.26148374e-05],\n",
       "             [-5.44960162e-05, -3.84142273e-05],\n",
       "             [ 3.74598273e-05,  4.70688338e-05],\n",
       "             [ 1.87281665e-06,  9.01920669e-05],\n",
       "             [-6.58134153e-05, -6.18476603e-05],\n",
       "             [-1.63026143e-05,  3.98630744e-06],\n",
       "             [-4.74615360e-05,  3.69736602e-05],\n",
       "             [-6.68170620e-05,  1.48532401e-05],\n",
       "             [ 4.88814254e-06,  3.70853059e-05],\n",
       "             [-5.74407955e-05, -5.06138501e-05],\n",
       "             [ 2.37758160e-06, -1.05089996e-05],\n",
       "             [ 6.40706054e-06,  3.12502505e-05],\n",
       "             [-2.93182706e-05,  2.58453747e-05],\n",
       "             [-3.32286563e-06, -3.38646269e-05],\n",
       "             [-3.75017244e-05, -2.83093781e-05]], dtype=float64)"
      ]
     },
     "execution_count": 3,
     "metadata": {},
     "output_type": "execute_result"
    }
   ],
   "source": [
    "hash_encoding.encode(x, theta).block_until_ready()"
   ]
  },
  {
   "cell_type": "code",
   "execution_count": 4,
   "metadata": {},
   "outputs": [
    {
     "name": "stdout",
     "output_type": "stream",
     "text": [
      "6.01 µs ± 562 ns per loop (mean ± std. dev. of 7 runs, 100,000 loops each)\n"
     ]
    }
   ],
   "source": [
    "%timeit hash_encoding.encode(x, theta).block_until_ready()"
   ]
  },
  {
   "cell_type": "code",
   "execution_count": 5,
   "metadata": {},
   "outputs": [
    {
     "data": {
      "text/plain": [
       "(1000000, 16, 2)"
      ]
     },
     "execution_count": 5,
     "metadata": {},
     "output_type": "execute_result"
    }
   ],
   "source": [
    "@jax.jit\n",
    "def encode_batch(x, theta):\n",
    "    return jax.vmap(lambda x: hash_encoding.encode(x, theta))(x)\n",
    "\n",
    "key, xs_key = jrandom.split(key, 2)\n",
    "xs = jrandom.uniform(xs_key, (1_000_000, 3))\n",
    "encode_batch(xs, theta).shape"
   ]
  },
  {
   "cell_type": "code",
   "execution_count": 6,
   "metadata": {},
   "outputs": [
    {
     "name": "stdout",
     "output_type": "stream",
     "text": [
      "1.06 s ± 149 ms per loop (mean ± std. dev. of 7 runs, 1 loop each)\n"
     ]
    }
   ],
   "source": [
    "%timeit encode_batch(xs, theta).block_until_ready()"
   ]
  },
  {
   "cell_type": "code",
   "execution_count": 7,
   "metadata": {},
   "outputs": [
    {
     "name": "stdout",
     "output_type": "stream",
     "text": [
      "427 ms ± 58.1 ms per loop (mean ± std. dev. of 7 runs, 1 loop each)\n"
     ]
    }
   ],
   "source": [
    "xs = jrandom.uniform(xs_key, (1_000_000, 2))\n",
    "%timeit encode_batch(xs, theta).block_until_ready()"
   ]
  },
  {
   "cell_type": "markdown",
   "metadata": {},
   "source": [
    "## Use in SDF"
   ]
  },
  {
   "cell_type": "code",
   "execution_count": 8,
   "metadata": {},
   "outputs": [
    {
     "data": {
      "text/plain": [
       "(32,)"
      ]
     },
     "execution_count": 8,
     "metadata": {},
     "output_type": "execute_result"
    }
   ],
   "source": [
    "class HashEmbedding(tx.Module):\n",
    "    theta: jnp.ndarray = tx.Parameter.node()\n",
    "\n",
    "    def __init__(\n",
    "        self, \n",
    "        levels: int=16, \n",
    "        hashmap_size_log2: int=14, \n",
    "        features_per_entry: int=2,\n",
    "        nmin: int=16,\n",
    "        nmax: int=512,\n",
    "    ):\n",
    "        self.levels = levels\n",
    "        self.hashmap_size_log2 = hashmap_size_log2\n",
    "        self.features_per_entry = features_per_entry\n",
    "        self.nmin = nmin\n",
    "        self.nmax = nmax\n",
    "\n",
    "    def __call__(self, x):\n",
    "        assert x.ndim == 1\n",
    "        if self.initializing():\n",
    "            hashmap_size = 1 << self.hashmap_size_log2\n",
    "            key = tx.next_key()\n",
    "            self.theta = jrandom.uniform(\n",
    "                key, \n",
    "                (self.levels, hashmap_size, self.features_per_entry), \n",
    "                minval=-0.0001, \n",
    "                maxval=0.0001\n",
    "            )\n",
    "        \n",
    "        y = hash_encoding.encode(x, self.theta, self.nmin, self.nmax)\n",
    "        return y.reshape(-1)\n",
    "\n",
    "emb = HashEmbedding().init(key=42, inputs=x)\n",
    "emb(x).shape"
   ]
  },
  {
   "cell_type": "code",
   "execution_count": 9,
   "metadata": {},
   "outputs": [
    {
     "data": {
      "text/plain": [
       "DeviceArray(0.19099818, dtype=float32)"
      ]
     },
     "execution_count": 9,
     "metadata": {},
     "output_type": "execute_result"
    }
   ],
   "source": [
    "model = tx.Sequential(\n",
    "    HashEmbedding(),\n",
    "    tx.Linear(64),\n",
    "    jax.nn.softplus,\n",
    "    tx.Linear(1),\n",
    "    lambda x: x[0]\n",
    ").init(key=42, inputs=x)\n",
    "model(x)"
   ]
  },
  {
   "cell_type": "code",
   "execution_count": 10,
   "metadata": {},
   "outputs": [
    {
     "data": {
      "image/png": "[encoded data removed]",
      "text/plain": [
       "<Figure size 450x216 with 3 Axes>"
      ]
     },
     "metadata": {
      "needs_background": "light"
     },
     "output_type": "display_data"
    }
   ],
   "source": [
    "plot2d(model, ngrid=50)"
   ]
  },
  {
   "cell_type": "code",
   "execution_count": 11,
   "metadata": {},
   "outputs": [
    {
     "data": {
      "application/vnd.jupyter.widget-view+json": {
       "model_id": "570b3b1cfede41e0afa10b70505b98fc",
       "version_major": 2,
       "version_minor": 0
      },
      "text/plain": [
       "  0%|          | 0/2000 [00:00<?, ?it/s]"
      ]
     },
     "metadata": {},
     "output_type": "display_data"
    },
    {
     "name": "stdout",
     "output_type": "stream",
     "text": [
      "[0] loss: 2.1266\n",
      "[200] loss: 0.5640\n",
      "[400] loss: 3.2340\n",
      "[600] loss: 1.5255\n",
      "[800] loss: 1.9613\n",
      "[1000] loss: 0.5871\n",
      "[1200] loss: 0.7823\n",
      "[1400] loss: 0.4810\n",
      "[1600] loss: 2.0388\n",
      "[1800] loss: 0.7115\n"
     ]
    },
    {
     "data": {
      "image/png": "[encoded data removed]",
      "text/plain": [
       "<Figure size 450x216 with 3 Axes>"
      ]
     },
     "metadata": {
      "needs_background": "light"
     },
     "output_type": "display_data"
    }
   ],
   "source": [
    "from sdf_jax import train_step, print_callback\n",
    "from tqdm.notebook import tqdm\n",
    "\n",
    "def fit(\n",
    "    sdf=sdf_sphere,\n",
    "    xy_lims=(-2, 2),\n",
    "    ngrid=20,\n",
    "    n_samples=50,\n",
    "    # module\n",
    "    act=jax.nn.relu,\n",
    "    emb_kwargs={},\n",
    "    # optimizer\n",
    "    key=jrandom.PRNGKey(1234),\n",
    "    lr=5e-3,\n",
    "    steps=100,\n",
    "    # utils\n",
    "    cb=print_callback,\n",
    "    cb_every=10,\n",
    "):\n",
    "    key, model_key, data_key = jrandom.split(key, 3)\n",
    "    xs, ys = discretize2d(sdf, xy_lims=xy_lims, ngrid=ngrid)\n",
    "    xs = xs.reshape(-1, 2)\n",
    "    ys = ys.reshape(-1)\n",
    "    train_idx = jrandom.choice(data_key, len(xs), (n_samples,), replace=False)\n",
    "    xs = xs[train_idx]\n",
    "    ys = ys[train_idx]\n",
    "    model = tx.Sequential(\n",
    "        HashEmbedding(**emb_kwargs),\n",
    "        tx.Linear(64),\n",
    "        act,\n",
    "        tx.Linear(64),\n",
    "        act,\n",
    "        tx.Linear(1),\n",
    "        lambda x: x[0]\n",
    "    ).init(key=model_key, inputs=xs[0])\n",
    "    optimizer = tx.Optimizer(optax.adam(lr, b1=0.9, b2=0.99, eps=1e-15))\n",
    "    optimizer = optimizer.init(model.filter(tx.Parameter))\n",
    "    for step in tqdm(range(steps)):\n",
    "        loss, model, optimizer = train_step(model, xs, ys, optimizer)\n",
    "        if step % cb_every == 0:\n",
    "            cb(step, loss, model, optimizer)\n",
    "    return loss, model\n",
    "\n",
    "loss, model = fit(lr=1e-4, steps=2000, cb_every=200)\n",
    "plot2d(model, ngrid=20)"
   ]
  },
  {
   "cell_type": "code",
   "execution_count": 12,
   "metadata": {},
   "outputs": [
    {
     "data": {
      "application/vnd.jupyter.widget-view+json": {
       "model_id": "1a8a83011c60476383914fccb3528ce5",
       "version_major": 2,
       "version_minor": 0
      },
      "text/plain": [
       "  0%|          | 0/500 [00:00<?, ?it/s]"
      ]
     },
     "metadata": {},
     "output_type": "display_data"
    },
    {
     "name": "stdout",
     "output_type": "stream",
     "text": [
      "[0] loss: 0.8692\n",
      "[100] loss: 0.3256\n",
      "[200] loss: 0.0461\n",
      "[300] loss: 0.0069\n",
      "[400] loss: 0.0030\n"
     ]
    },
    {
     "data": {
      "image/png": "[encoded data removed]",
      "text/plain": [
       "<Figure size 450x216 with 3 Axes>"
      ]
     },
     "metadata": {
      "needs_background": "light"
     },
     "output_type": "display_data"
    }
   ],
   "source": [
    "# it seems coordinates matter a lot.\n",
    "# is the unit square a default assumption ?\n",
    "# TODO investigate / think\n",
    "\n",
    "def sdf_sphere2(x):\n",
    "    center = np.array([0.5, 0.5])\n",
    "    radius = 0.3\n",
    "    return jnp.linalg.norm(x - center) - radius\n",
    "\n",
    "loss, model = fit(\n",
    "    sdf_sphere2, \n",
    "    xy_lims=(0,1),\n",
    "    n_samples=400,\n",
    "    emb_kwargs={\"nmax\": 32}, # set nmax higher to overfit to grid\n",
    "    lr=1e-4, \n",
    "    steps=500, \n",
    "    cb_every=100,\n",
    ")\n",
    "plot2d(model, ngrid=20, xy_lims=(0,1))"
   ]
  },
  {
   "cell_type": "code",
   "execution_count": 13,
   "metadata": {},
   "outputs": [
    {
     "data": {
      "image/png": "[encoded data removed]",
      "text/plain": [
       "<Figure size 450x216 with 3 Axes>"
      ]
     },
     "metadata": {
      "needs_background": "light"
     },
     "output_type": "display_data"
    }
   ],
   "source": [
    "plot2d(sdf_sphere2, ngrid=20, xy_lims=(0,1))"
   ]
  },
  {
   "cell_type": "code",
   "execution_count": 14,
   "metadata": {},
   "outputs": [
    {
     "data": {
      "image/png": "[encoded data removed]",
      "text/plain": [
       "<Figure size 450x216 with 3 Axes>"
      ]
     },
     "metadata": {
      "needs_background": "light"
     },
     "output_type": "display_data"
    },
    {
     "data": {
      "image/png": "[encoded data removed]",
      "text/plain": [
       "<Figure size 450x216 with 3 Axes>"
      ]
     },
     "metadata": {
      "needs_background": "light"
     },
     "output_type": "display_data"
    }
   ],
   "source": [
    "plot2d(model, ngrid=80, xy_lims=(0,1))\n",
    "plot2d(sdf_sphere2, ngrid=80, xy_lims=(0,1))"
   ]
  },
  {
   "cell_type": "markdown",
   "metadata": {},
   "source": [
    "## Inspect traced jaxpr"
   ]
  },
  {
   "cell_type": "code",
   "execution_count": 15,
   "metadata": {},
   "outputs": [
    {
     "data": {
      "text/plain": [
       "{ \u001b[34m\u001b[22m\u001b[1mlambda \u001b[39m\u001b[22m\u001b[22ma\u001b[35m:u64[4,2]\u001b[39m b\u001b[35m:u64[16]\u001b[39m; c\u001b[35m:f64[2]\u001b[39m d\u001b[35m:f64[16,16384,2]\u001b[39m. \u001b[34m\u001b[22m\u001b[1mlet\n",
       "    \u001b[39m\u001b[22m\u001b[22me\u001b[35m:f64[16,2]\u001b[39m = xla_call[\n",
       "      call_jaxpr={ \u001b[34m\u001b[22m\u001b[1mlambda \u001b[39m\u001b[22m\u001b[22m; f\u001b[35m:u64[4,2]\u001b[39m g\u001b[35m:u64[16]\u001b[39m h\u001b[35m:f64[2]\u001b[39m i\u001b[35m:f64[16,16384,2]\u001b[39m. \u001b[34m\u001b[22m\u001b[1mlet\n",
       "          \u001b[39m\u001b[22m\u001b[22mj\u001b[35m:f64[16,2]\u001b[39m = scan[\n",
       "            jaxpr={ \u001b[34m\u001b[22m\u001b[1mlambda \u001b[39m\u001b[22m\u001b[22m; k\u001b[35m:f64[2]\u001b[39m l\u001b[35m:u64[4,2]\u001b[39m m\u001b[35m:f64[16,16384,2]\u001b[39m n\u001b[35m:u64[]\u001b[39m. \u001b[34m\u001b[22m\u001b[1mlet\n",
       "                \u001b[39m\u001b[22m\u001b[22mo\u001b[35m:f64[]\u001b[39m = convert_element_type[\n",
       "                  new_dtype=float64\n",
       "                  weak_type=False\n",
       "                ] n\n",
       "                p\u001b[35m:f64[]\u001b[39m = pow 1.2599210498948732 o\n",
       "                q\u001b[35m:f64[]\u001b[39m = mul p 16.0\n",
       "                r\u001b[35m:f64[]\u001b[39m = floor q\n",
       "                s\u001b[35m:f64[2]\u001b[39m = mul k r\n",
       "                t\u001b[35m:f64[2]\u001b[39m = floor s\n",
       "                u\u001b[35m:u64[2]\u001b[39m = convert_element_type[\n",
       "                  new_dtype=uint64\n",
       "                  weak_type=False\n",
       "                ] t\n",
       "                v\u001b[35m:u64[1,2]\u001b[39m = broadcast_in_dim[\n",
       "                  broadcast_dimensions=(1,)\n",
       "                  shape=(1, 2)\n",
       "                ] u\n",
       "                w\u001b[35m:u64[4,2]\u001b[39m = add v l\n",
       "                x\u001b[35m:bool[]\u001b[39m = lt 0 0\n",
       "                y\u001b[35m:i64[]\u001b[39m = add 0 2\n",
       "                z\u001b[35m:i64[]\u001b[39m = select_n x 0 y\n",
       "                ba\u001b[35m:i32[]\u001b[39m = convert_element_type[new_dtype=int32 weak_type=False] z\n",
       "                bb\u001b[35m:i32[1]\u001b[39m = broadcast_in_dim[broadcast_dimensions=() shape=(1,)] ba\n",
       "                bc\u001b[35m:u64[4]\u001b[39m = gather[\n",
       "                  dimension_numbers=GatherDimensionNumbers(offset_dims=(0,), collapsed_slice_dims=(1,), start_index_map=(1,))\n",
       "                  fill_value=None\n",
       "                  indices_are_sorted=True\n",
       "                  mode=GatherScatterMode.PROMISE_IN_BOUNDS\n",
       "                  slice_sizes=(4, 1)\n",
       "                  unique_indices=True\n",
       "                ] w bb\n",
       "                bd\u001b[35m:u64[4]\u001b[39m = mul bc 1\n",
       "                be\u001b[35m:u64[4]\u001b[39m = xor bd 0\n",
       "                bf\u001b[35m:bool[]\u001b[39m = lt 1 0\n",
       "                bg\u001b[35m:i64[]\u001b[39m = add 1 2\n",
       "                bh\u001b[35m:i64[]\u001b[39m = select_n bf 1 bg\n",
       "                bi\u001b[35m:i32[]\u001b[39m = convert_element_type[new_dtype=int32 weak_type=False] bh\n",
       "                bj\u001b[35m:i32[1]\u001b[39m = broadcast_in_dim[broadcast_dimensions=() shape=(1,)] bi\n",
       "                bk\u001b[35m:u64[4]\u001b[39m = gather[\n",
       "                  dimension_numbers=GatherDimensionNumbers(offset_dims=(0,), collapsed_slice_dims=(1,), start_index_map=(1,))\n",
       "                  fill_value=None\n",
       "                  indices_are_sorted=True\n",
       "                  mode=GatherScatterMode.PROMISE_IN_BOUNDS\n",
       "                  slice_sizes=(4, 1)\n",
       "                  unique_indices=True\n",
       "                ] w bj\n",
       "                bl\u001b[35m:u64[4]\u001b[39m = mul bk 2654435761\n",
       "                bm\u001b[35m:u64[4]\u001b[39m = xor be bl\n",
       "                bn\u001b[35m:u64[4]\u001b[39m = xla_call[\n",
       "                  call_jaxpr={ \u001b[34m\u001b[22m\u001b[1mlambda \u001b[39m\u001b[22m\u001b[22m; bo\u001b[35m:u64[4]\u001b[39m bp\u001b[35m:i64[]\u001b[39m. \u001b[34m\u001b[22m\u001b[1mlet\n",
       "                      \u001b[39m\u001b[22m\u001b[22mbq\u001b[35m:u64[]\u001b[39m = convert_element_type[\n",
       "                        new_dtype=uint64\n",
       "                        weak_type=False\n",
       "                      ] bp\n",
       "                      br\u001b[35m:u64[4]\u001b[39m = rem bo bq\n",
       "                      bs\u001b[35m:bool[4]\u001b[39m = ne br 0\n",
       "                      bt\u001b[35m:bool[4]\u001b[39m = lt br 0\n",
       "                      bu\u001b[35m:bool[]\u001b[39m = lt bq 0\n",
       "                      bv\u001b[35m:bool[4]\u001b[39m = ne bt bu\n",
       "                      bw\u001b[35m:bool[4]\u001b[39m = and bv bs\n",
       "                      bx\u001b[35m:u64[4]\u001b[39m = add br bq\n",
       "                      by\u001b[35m:u64[4]\u001b[39m = select_n bw br bx\n",
       "                    \u001b[34m\u001b[22m\u001b[1min \u001b[39m\u001b[22m\u001b[22m(by,) }\n",
       "                  name=vmap(remainder)\n",
       "                ] bm 16384\n",
       "                bz\u001b[35m:i32[]\u001b[39m = convert_element_type[new_dtype=int32 weak_type=False] n\n",
       "                ca\u001b[35m:i32[1]\u001b[39m = broadcast_in_dim[broadcast_dimensions=() shape=(1,)] bz\n",
       "                cb\u001b[35m:f64[16384,2]\u001b[39m = gather[\n",
       "                  dimension_numbers=GatherDimensionNumbers(offset_dims=(0, 1), collapsed_slice_dims=(0,), start_index_map=(0,))\n",
       "                  fill_value=None\n",
       "                  indices_are_sorted=True\n",
       "                  mode=GatherScatterMode.PROMISE_IN_BOUNDS\n",
       "                  slice_sizes=(1, 16384, 2)\n",
       "                  unique_indices=True\n",
       "                ] m ca\n",
       "                cc\u001b[35m:i32[4]\u001b[39m = convert_element_type[\n",
       "                  new_dtype=int32\n",
       "                  weak_type=False\n",
       "                ] bn\n",
       "                cd\u001b[35m:i32[4,1]\u001b[39m = broadcast_in_dim[\n",
       "                  broadcast_dimensions=(0,)\n",
       "                  shape=(4, 1)\n",
       "                ] cc\n",
       "                ce\u001b[35m:f64[4,2]\u001b[39m = gather[\n",
       "                  dimension_numbers=GatherDimensionNumbers(offset_dims=(1,), collapsed_slice_dims=(0,), start_index_map=(0,))\n",
       "                  fill_value=None\n",
       "                  indices_are_sorted=False\n",
       "                  mode=GatherScatterMode.PROMISE_IN_BOUNDS\n",
       "                  slice_sizes=(1, 2)\n",
       "                  unique_indices=False\n",
       "                ] cb cd\n",
       "                cf\u001b[35m:f64[2]\u001b[39m = convert_element_type[\n",
       "                  new_dtype=float64\n",
       "                  weak_type=False\n",
       "                ] u\n",
       "                cg\u001b[35m:f64[2]\u001b[39m = sub s cf\n",
       "                ch\u001b[35m:bool[]\u001b[39m = lt 0 0\n",
       "                ci\u001b[35m:i64[]\u001b[39m = add 0 4\n",
       "                cj\u001b[35m:i64[]\u001b[39m = select_n ch 0 ci\n",
       "                ck\u001b[35m:i32[]\u001b[39m = convert_element_type[new_dtype=int32 weak_type=False] cj\n",
       "                cl\u001b[35m:i32[1]\u001b[39m = broadcast_in_dim[broadcast_dimensions=() shape=(1,)] ck\n",
       "                cm\u001b[35m:f64[2]\u001b[39m = gather[\n",
       "                  dimension_numbers=GatherDimensionNumbers(offset_dims=(0,), collapsed_slice_dims=(0,), start_index_map=(0,))\n",
       "                  fill_value=None\n",
       "                  indices_are_sorted=True\n",
       "                  mode=GatherScatterMode.PROMISE_IN_BOUNDS\n",
       "                  slice_sizes=(1, 2)\n",
       "                  unique_indices=True\n",
       "                ] ce cl\n",
       "                cn\u001b[35m:bool[]\u001b[39m = lt 0 0\n",
       "                co\u001b[35m:i64[]\u001b[39m = add 0 2\n",
       "                cp\u001b[35m:i64[]\u001b[39m = select_n cn 0 co\n",
       "                cq\u001b[35m:i32[]\u001b[39m = convert_element_type[new_dtype=int32 weak_type=False] cp\n",
       "                cr\u001b[35m:i32[1]\u001b[39m = broadcast_in_dim[broadcast_dimensions=() shape=(1,)] cq\n",
       "                cs\u001b[35m:f64[]\u001b[39m = gather[\n",
       "                  dimension_numbers=GatherDimensionNumbers(offset_dims=(), collapsed_slice_dims=(0,), start_index_map=(0,))\n",
       "                  fill_value=None\n",
       "                  indices_are_sorted=True\n",
       "                  mode=GatherScatterMode.PROMISE_IN_BOUNDS\n",
       "                  slice_sizes=(1,)\n",
       "                  unique_indices=True\n",
       "                ] cg cr\n",
       "                ct\u001b[35m:f64[]\u001b[39m = sub 1.0 cs\n",
       "                cu\u001b[35m:f64[2]\u001b[39m = mul cm ct\n",
       "                cv\u001b[35m:bool[]\u001b[39m = lt 2 0\n",
       "                cw\u001b[35m:i64[]\u001b[39m = add 2 4\n",
       "                cx\u001b[35m:i64[]\u001b[39m = select_n cv 2 cw\n",
       "                cy\u001b[35m:i32[]\u001b[39m = convert_element_type[new_dtype=int32 weak_type=False] cx\n",
       "                cz\u001b[35m:i32[1]\u001b[39m = broadcast_in_dim[broadcast_dimensions=() shape=(1,)] cy\n",
       "                da\u001b[35m:f64[2]\u001b[39m = gather[\n",
       "                  dimension_numbers=GatherDimensionNumbers(offset_dims=(0,), collapsed_slice_dims=(0,), start_index_map=(0,))\n",
       "                  fill_value=None\n",
       "                  indices_are_sorted=True\n",
       "                  mode=GatherScatterMode.PROMISE_IN_BOUNDS\n",
       "                  slice_sizes=(1, 2)\n",
       "                  unique_indices=True\n",
       "                ] ce cz\n",
       "                db\u001b[35m:bool[]\u001b[39m = lt 0 0\n",
       "                dc\u001b[35m:i64[]\u001b[39m = add 0 2\n",
       "                dd\u001b[35m:i64[]\u001b[39m = select_n db 0 dc\n",
       "                de\u001b[35m:i32[]\u001b[39m = convert_element_type[new_dtype=int32 weak_type=False] dd\n",
       "                df\u001b[35m:i32[1]\u001b[39m = broadcast_in_dim[broadcast_dimensions=() shape=(1,)] de\n",
       "                dg\u001b[35m:f64[]\u001b[39m = gather[\n",
       "                  dimension_numbers=GatherDimensionNumbers(offset_dims=(), collapsed_slice_dims=(0,), start_index_map=(0,))\n",
       "                  fill_value=None\n",
       "                  indices_are_sorted=True\n",
       "                  mode=GatherScatterMode.PROMISE_IN_BOUNDS\n",
       "                  slice_sizes=(1,)\n",
       "                  unique_indices=True\n",
       "                ] cg df\n",
       "                dh\u001b[35m:f64[2]\u001b[39m = mul da dg\n",
       "                di\u001b[35m:f64[2]\u001b[39m = add cu dh\n",
       "                dj\u001b[35m:bool[]\u001b[39m = lt 1 0\n",
       "                dk\u001b[35m:i64[]\u001b[39m = add 1 4\n",
       "                dl\u001b[35m:i64[]\u001b[39m = select_n dj 1 dk\n",
       "                dm\u001b[35m:i32[]\u001b[39m = convert_element_type[new_dtype=int32 weak_type=False] dl\n",
       "                dn\u001b[35m:i32[1]\u001b[39m = broadcast_in_dim[broadcast_dimensions=() shape=(1,)] dm\n",
       "                do\u001b[35m:f64[2]\u001b[39m = gather[\n",
       "                  dimension_numbers=GatherDimensionNumbers(offset_dims=(0,), collapsed_slice_dims=(0,), start_index_map=(0,))\n",
       "                  fill_value=None\n",
       "                  indices_are_sorted=True\n",
       "                  mode=GatherScatterMode.PROMISE_IN_BOUNDS\n",
       "                  slice_sizes=(1, 2)\n",
       "                  unique_indices=True\n",
       "                ] ce dn\n",
       "                dp\u001b[35m:bool[]\u001b[39m = lt 0 0\n",
       "                dq\u001b[35m:i64[]\u001b[39m = add 0 2\n",
       "                dr\u001b[35m:i64[]\u001b[39m = select_n dp 0 dq\n",
       "                ds\u001b[35m:i32[]\u001b[39m = convert_element_type[new_dtype=int32 weak_type=False] dr\n",
       "                dt\u001b[35m:i32[1]\u001b[39m = broadcast_in_dim[broadcast_dimensions=() shape=(1,)] ds\n",
       "                du\u001b[35m:f64[]\u001b[39m = gather[\n",
       "                  dimension_numbers=GatherDimensionNumbers(offset_dims=(), collapsed_slice_dims=(0,), start_index_map=(0,))\n",
       "                  fill_value=None\n",
       "                  indices_are_sorted=True\n",
       "                  mode=GatherScatterMode.PROMISE_IN_BOUNDS\n",
       "                  slice_sizes=(1,)\n",
       "                  unique_indices=True\n",
       "                ] cg dt\n",
       "                dv\u001b[35m:f64[]\u001b[39m = sub 1.0 du\n",
       "                dw\u001b[35m:f64[2]\u001b[39m = mul do dv\n",
       "                dx\u001b[35m:bool[]\u001b[39m = lt 3 0\n",
       "                dy\u001b[35m:i64[]\u001b[39m = add 3 4\n",
       "                dz\u001b[35m:i64[]\u001b[39m = select_n dx 3 dy\n",
       "                ea\u001b[35m:i32[]\u001b[39m = convert_element_type[new_dtype=int32 weak_type=False] dz\n",
       "                eb\u001b[35m:i32[1]\u001b[39m = broadcast_in_dim[broadcast_dimensions=() shape=(1,)] ea\n",
       "                ec\u001b[35m:f64[2]\u001b[39m = gather[\n",
       "                  dimension_numbers=GatherDimensionNumbers(offset_dims=(0,), collapsed_slice_dims=(0,), start_index_map=(0,))\n",
       "                  fill_value=None\n",
       "                  indices_are_sorted=True\n",
       "                  mode=GatherScatterMode.PROMISE_IN_BOUNDS\n",
       "                  slice_sizes=(1, 2)\n",
       "                  unique_indices=True\n",
       "                ] ce eb\n",
       "                ed\u001b[35m:bool[]\u001b[39m = lt 0 0\n",
       "                ee\u001b[35m:i64[]\u001b[39m = add 0 2\n",
       "                ef\u001b[35m:i64[]\u001b[39m = select_n ed 0 ee\n",
       "                eg\u001b[35m:i32[]\u001b[39m = convert_element_type[new_dtype=int32 weak_type=False] ef\n",
       "                eh\u001b[35m:i32[1]\u001b[39m = broadcast_in_dim[broadcast_dimensions=() shape=(1,)] eg\n",
       "                ei\u001b[35m:f64[]\u001b[39m = gather[\n",
       "                  dimension_numbers=GatherDimensionNumbers(offset_dims=(), collapsed_slice_dims=(0,), start_index_map=(0,))\n",
       "                  fill_value=None\n",
       "                  indices_are_sorted=True\n",
       "                  mode=GatherScatterMode.PROMISE_IN_BOUNDS\n",
       "                  slice_sizes=(1,)\n",
       "                  unique_indices=True\n",
       "                ] cg eh\n",
       "                ej\u001b[35m:f64[2]\u001b[39m = mul ec ei\n",
       "                ek\u001b[35m:f64[2]\u001b[39m = add dw ej\n",
       "                el\u001b[35m:bool[]\u001b[39m = lt 1 0\n",
       "                em\u001b[35m:i64[]\u001b[39m = add 1 2\n",
       "                en\u001b[35m:i64[]\u001b[39m = select_n el 1 em\n",
       "                eo\u001b[35m:i32[]\u001b[39m = convert_element_type[new_dtype=int32 weak_type=False] en\n",
       "                ep\u001b[35m:i32[1]\u001b[39m = broadcast_in_dim[broadcast_dimensions=() shape=(1,)] eo\n",
       "                eq\u001b[35m:f64[]\u001b[39m = gather[\n",
       "                  dimension_numbers=GatherDimensionNumbers(offset_dims=(), collapsed_slice_dims=(0,), start_index_map=(0,))\n",
       "                  fill_value=None\n",
       "                  indices_are_sorted=True\n",
       "                  mode=GatherScatterMode.PROMISE_IN_BOUNDS\n",
       "                  slice_sizes=(1,)\n",
       "                  unique_indices=True\n",
       "                ] cg ep\n",
       "                er\u001b[35m:f64[]\u001b[39m = sub 1.0 eq\n",
       "                es\u001b[35m:f64[2]\u001b[39m = mul di er\n",
       "                et\u001b[35m:bool[]\u001b[39m = lt 1 0\n",
       "                eu\u001b[35m:i64[]\u001b[39m = add 1 2\n",
       "                ev\u001b[35m:i64[]\u001b[39m = select_n et 1 eu\n",
       "                ew\u001b[35m:i32[]\u001b[39m = convert_element_type[new_dtype=int32 weak_type=False] ev\n",
       "                ex\u001b[35m:i32[1]\u001b[39m = broadcast_in_dim[broadcast_dimensions=() shape=(1,)] ew\n",
       "                ey\u001b[35m:f64[]\u001b[39m = gather[\n",
       "                  dimension_numbers=GatherDimensionNumbers(offset_dims=(), collapsed_slice_dims=(0,), start_index_map=(0,))\n",
       "                  fill_value=None\n",
       "                  indices_are_sorted=True\n",
       "                  mode=GatherScatterMode.PROMISE_IN_BOUNDS\n",
       "                  slice_sizes=(1,)\n",
       "                  unique_indices=True\n",
       "                ] cg ex\n",
       "                ez\u001b[35m:f64[2]\u001b[39m = mul ek ey\n",
       "                fa\u001b[35m:f64[2]\u001b[39m = add es ez\n",
       "              \u001b[34m\u001b[22m\u001b[1min \u001b[39m\u001b[22m\u001b[22m(fa,) }\n",
       "            length=16\n",
       "            linear=(False, False, False, False)\n",
       "            num_carry=0\n",
       "            num_consts=3\n",
       "            reverse=False\n",
       "            unroll=1\n",
       "          ] h f i g\n",
       "        \u001b[34m\u001b[22m\u001b[1min \u001b[39m\u001b[22m\u001b[22m(j,) }\n",
       "      name=encode\n",
       "    ] a b c d\n",
       "  \u001b[34m\u001b[22m\u001b[1min \u001b[39m\u001b[22m\u001b[22m(e,) }"
      ]
     },
     "execution_count": 15,
     "metadata": {},
     "output_type": "execute_result"
    }
   ],
   "source": [
    "jax.make_jaxpr(hash_encoding.encode)(x, theta)"
   ]
  },
  {
   "cell_type": "markdown",
   "metadata": {},
   "source": [
    "## Inspect lowered XLA code"
   ]
  },
  {
   "cell_type": "code",
   "execution_count": 16,
   "metadata": {},
   "outputs": [
    {
     "name": "stdout",
     "output_type": "stream",
     "text": [
      "HloModule xla_computation_hash_vertex.82\n",
      "\n",
      "fused_computation {\n",
      "  param_0.1 = s64[] parameter(0)\n",
      "  constant.1 = s64[] constant(0)\n",
      "  compare.7 = pred[] compare(param_0.1, constant.1), direction=LT\n",
      "  param_1.2 = s64[] parameter(1)\n",
      "  compare.6 = pred[] compare(param_1.2, constant.1), direction=LT\n",
      "  compare.5 = pred[] compare(compare.7, compare.6), direction=NE\n",
      "  compare.4 = pred[] compare(param_0.1, constant.1), direction=NE\n",
      "  and.1 = pred[] and(compare.5, compare.4)\n",
      "  add.1 = s64[] add(param_0.1, param_1.2)\n",
      "  ROOT select.1 = s64[] select(and.1, add.1, param_0.1)\n",
      "}\n",
      "\n",
      "fused_computation.1 {\n",
      "  param_1.5 = s64[3]{0} parameter(1)\n",
      "  slice.2 = s64[1]{0} slice(param_1.5), slice={[0:1]}\n",
      "  reshape.2 = s64[] reshape(slice.2)\n",
      "  slice.1 = s64[1]{0} slice(param_1.5), slice={[1:2]}\n",
      "  reshape.1 = s64[] reshape(slice.1)\n",
      "  constant.5 = s64[] constant(2654435761)\n",
      "  multiply.1 = s64[] multiply(reshape.1, constant.5)\n",
      "  xor.1 = s64[] xor(reshape.2, multiply.1)\n",
      "  slice.0 = s64[1]{0} slice(param_1.5), slice={[2:3]}\n",
      "  reshape.0 = s64[] reshape(slice.0)\n",
      "  constant.2 = s64[] constant(805459861)\n",
      "  multiply.0 = s64[] multiply(reshape.0, constant.2)\n",
      "  xor.0 = s64[] xor(xor.1, multiply.0)\n",
      "  param_0.3 = s64[] parameter(0)\n",
      "  ROOT remainder.1 = s64[] remainder(xor.0, param_0.3)\n",
      "}\n",
      "\n",
      "ENTRY main.29 {\n",
      "  Arg_1.2 = s64[] parameter(1)\n",
      "  Arg_0.1 = s64[3]{0} parameter(0)\n",
      "  fusion.1 = s64[] fusion(Arg_1.2, Arg_0.1), kind=kLoop, calls=fused_computation.1\n",
      "  fusion = s64[] fusion(fusion.1, Arg_1.2), kind=kLoop, calls=fused_computation\n",
      "  ROOT tuple.28 = (s64[]) tuple(fusion)\n",
      "}\n",
      "\n",
      "\n"
     ]
    }
   ],
   "source": [
    "import jaxlib.xla_extension as xla_ext\n",
    "\n",
    "def print_hlo(f, *args):\n",
    "    comp = jax.xla_computation(f)(*args)\n",
    "    backend = jax.lib.xla_bridge.get_backend()\n",
    "    e = backend.compile(comp)\n",
    "    option = xla_ext.HloPrintOptions.short_parsable()\n",
    "    print(e.hlo_modules()[0].to_string(option))\n",
    "\n",
    "# print_hlo(hash_encoding.encode, x, theta)\n",
    "print_hlo(hash_encoding.hash_vertex, jnp.arange(3), 2**14)"
   ]
  },
  {
   "cell_type": "code",
   "execution_count": 17,
   "metadata": {},
   "outputs": [
    {
     "name": "stdout",
     "output_type": "stream",
     "text": [
      "HloModule xla_computation_interpolate_bilinear.85\n",
      "\n",
      "fused_computation {\n",
      "  param_0.4 = f64[4,2]{1,0} parameter(0)\n",
      "  slice.7 = f64[1,2]{1,0} slice(param_0.4), slice={[0:1], [0:2]}\n",
      "  constant.0 = f64[] constant(1)\n",
      "  param_1.7 = f64[2]{0} parameter(1)\n",
      "  slice.5 = f64[1]{0} slice(param_1.7), slice={[0:1]}\n",
      "  reshape.15 = f64[] reshape(slice.5)\n",
      "  subtract.1 = f64[] subtract(constant.0, reshape.15)\n",
      "  broadcast.10 = f64[1,2]{1,0} broadcast(subtract.1), dimensions={}\n",
      "  multiply.12 = f64[1,2]{1,0} multiply(slice.7, broadcast.10)\n",
      "  slice.3 = f64[1,2]{1,0} slice(param_0.4), slice={[2:3], [0:2]}\n",
      "  broadcast.8 = f64[1,2]{1,0} broadcast(reshape.15), dimensions={}\n",
      "  multiply.11 = f64[1,2]{1,0} multiply(slice.3, broadcast.8)\n",
      "  add.5 = f64[1,2]{1,0} add(multiply.12, multiply.11)\n",
      "  slice.2 = f64[1]{0} slice(param_1.7), slice={[1:2]}\n",
      "  reshape.13 = f64[] reshape(slice.2)\n",
      "  subtract.0 = f64[] subtract(constant.0, reshape.13)\n",
      "  broadcast.7 = f64[1,2]{1,0} broadcast(subtract.0), dimensions={}\n",
      "  multiply.9 = f64[1,2]{1,0} multiply(add.5, broadcast.7)\n",
      "  slice.1 = f64[1,2]{1,0} slice(param_0.4), slice={[1:2], [0:2]}\n",
      "  multiply.8 = f64[1,2]{1,0} multiply(slice.1, broadcast.10)\n",
      "  slice.0 = f64[1,2]{1,0} slice(param_0.4), slice={[3:4], [0:2]}\n",
      "  multiply.7 = f64[1,2]{1,0} multiply(slice.0, broadcast.8)\n",
      "  add.4 = f64[1,2]{1,0} add(multiply.8, multiply.7)\n",
      "  broadcast.6 = f64[1,2]{1,0} broadcast(reshape.13), dimensions={}\n",
      "  multiply.6 = f64[1,2]{1,0} multiply(add.4, broadcast.6)\n",
      "  add.3 = f64[1,2]{1,0} add(multiply.9, multiply.6)\n",
      "  ROOT reshape.11 = f64[2]{0} reshape(add.3)\n",
      "}\n",
      "\n",
      "ENTRY main.43 {\n",
      "  Arg_0.1 = f64[4,2]{1,0} parameter(0)\n",
      "  Arg_1.2 = f64[2]{0} parameter(1)\n",
      "  fusion = f64[2]{0} fusion(Arg_0.1, Arg_1.2), kind=kLoop, calls=fused_computation\n",
      "  ROOT tuple.42 = (f64[2]{0}) tuple(fusion)\n",
      "}\n",
      "\n",
      "\n"
     ]
    }
   ],
   "source": [
    "print_hlo(hash_encoding.interpolate_bilinear, jnp.ones((4,2)), jnp.zeros(2))"
   ]
  },
  {
   "cell_type": "code",
   "execution_count": null,
   "metadata": {},
   "outputs": [],
   "source": []
  }
 ],
 "metadata": {
  "kernelspec": {
   "display_name": "Python 3.8.13 ('cg')",
   "language": "python",
   "name": "python3"
  },
  "language_info": {
   "codemirror_mode": {
    "name": "ipython",
    "version": 3
   },
   "file_extension": ".py",
   "mimetype": "text/x-python",
   "name": "python",
   "nbconvert_exporter": "python",
   "pygments_lexer": "ipython3",
   "version": "3.8.13"
  },
  "orig_nbformat": 4,
  "vscode": {
   "interpreter": {
    "hash": "d1a8db72fa245dceca58952337fc626e5e0d3c2b0fa1111097c70d5deb51de41"
   }
  }
 },
 "nbformat": 4,
 "nbformat_minor": 2
}
