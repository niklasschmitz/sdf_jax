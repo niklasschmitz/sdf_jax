{
 "cells": [
  {
   "cell_type": "markdown",
   "metadata": {},
   "source": [
    "# Multiresolution Hash Encoding"
   ]
  },
  {
   "cell_type": "code",
   "execution_count": 1,
   "metadata": {},
   "outputs": [
    {
     "name": "stderr",
     "output_type": "stream",
     "text": [
      "WARNING:absl:No GPU/TPU found, falling back to CPU. (Set TF_CPP_MIN_LOG_LEVEL=0 and rerun for more info.)\n"
     ]
    },
    {
     "data": {
      "image/png": "[encoded data removed]",
      "text/plain": [
       "<Figure size 450x216 with 3 Axes>"
      ]
     },
     "metadata": {
      "needs_background": "light"
     },
     "output_type": "display_data"
    }
   ],
   "source": [
    "import jax\n",
    "import jax.numpy as jnp\n",
    "import jax.random as jrandom\n",
    "import numpy as np\n",
    "import matplotlib.pyplot as plt\n",
    "from IPython.display import clear_output\n",
    "%matplotlib inline\n",
    "import functools as ft\n",
    "import optax\n",
    "import treex as tx\n",
    "from sdf_jax import plot2d, discretize2d\n",
    "from sdf_jax import SimpleNeuralSDF, train_step\n",
    "\n",
    "\n",
    "def sdf_sphere(x):\n",
    "    return jnp.linalg.norm(x) - 1\n",
    "\n",
    "plot2d(sdf_sphere, ngrid=20)"
   ]
  },
  {
   "cell_type": "code",
   "execution_count": 2,
   "metadata": {},
   "outputs": [],
   "source": [
    "def hash_vertex(v, size):\n",
    "    primes = [1, 2654435761, 805459861]\n",
    "    h = 0\n",
    "    for i in range(v.ndim):\n",
    "        h ^= v[i] * primes[i]\n",
    "    return h % size\n",
    "\n",
    "def trilinear_interpolation(values, weights):\n",
    "    # https://en.wikipedia.org/wiki/Trilinear_interpolation\n",
    "    c00 = values[int('000',2)]*(1.0-weights[0]) + values[int('100',2)]*weights[0]\n",
    "    c01 = values[int('001',2)]*(1.0-weights[0]) + values[int('101',2)]*weights[0]\n",
    "    c10 = values[int('010',2)]*(1.0-weights[0]) + values[int('110',2)]*weights[0]\n",
    "    c11 = values[int('011',2)]*(1.0-weights[0]) + values[int('111',2)]*weights[0]\n",
    "    c0 = c00*(1.0-weights[1]) + c10*weights[1]\n",
    "    c1 = c01*(1.0-weights[1]) + c11*weights[1]\n",
    "    c = c0*(1.0-weights[2]) + c1*weights[2]\n",
    "    return c\n",
    "\n",
    "@jax.jit\n",
    "def encode(x, theta, nmin=16, nmax=512, levels=16, hashmap_size_log2=14):\n",
    "    t = 1 << hashmap_size_log2\n",
    "    box = np.array([[i,j,k] for i in (0,1) for j in (0,1) for k in (0,1)])\n",
    "    b = np.exp((np.log(nmax) - np.log(nmin)) / (levels - 1))\n",
    "    y = []\n",
    "    for l in range(levels):\n",
    "        nl = jnp.floor(nmin * b**l)\n",
    "        xl = x * nl\n",
    "        xl_ = jnp.floor(xl).astype(jnp.int32)\n",
    "\n",
    "        # hash\n",
    "        indices = jax.vmap(lambda v: hash_vertex(xl_ + v, t))(box)\n",
    "\n",
    "        # lookup\n",
    "        tl = theta[l][indices]\n",
    "\n",
    "        # interpolate\n",
    "        wl = (xl - xl_)\n",
    "        xi = trilinear_interpolation(tl, wl)\n",
    "\n",
    "        # concatenate\n",
    "        y += [xi]\n",
    "    return jnp.vstack(y)"
   ]
  },
  {
   "cell_type": "code",
   "execution_count": 3,
   "metadata": {},
   "outputs": [],
   "source": [
    "x = jnp.array([1.1, 2.2, 1.3])\n",
    "key = jrandom.PRNGKey(1234)\n",
    "key, theta_key = jrandom.split(key, 2)\n",
    "theta = jrandom.uniform(theta_key, (16, 2**14, 2), minval=-0.0001, maxval=0.0001)"
   ]
  },
  {
   "cell_type": "code",
   "execution_count": 4,
   "metadata": {},
   "outputs": [
    {
     "name": "stdout",
     "output_type": "stream",
     "text": [
      "25.9 µs ± 11.6 µs per loop (mean ± std. dev. of 7 runs, 1 loop each)\n"
     ]
    }
   ],
   "source": [
    "%timeit encode(x, theta).block_until_ready()"
   ]
  },
  {
   "cell_type": "code",
   "execution_count": null,
   "metadata": {},
   "outputs": [],
   "source": []
  }
 ],
 "metadata": {
  "kernelspec": {
   "display_name": "Python 3.8.13 ('cg')",
   "language": "python",
   "name": "python3"
  },
  "language_info": {
   "codemirror_mode": {
    "name": "ipython",
    "version": 3
   },
   "file_extension": ".py",
   "mimetype": "text/x-python",
   "name": "python",
   "nbconvert_exporter": "python",
   "pygments_lexer": "ipython3",
   "version": "3.8.13"
  },
  "orig_nbformat": 4,
  "vscode": {
   "interpreter": {
    "hash": "d1a8db72fa245dceca58952337fc626e5e0d3c2b0fa1111097c70d5deb51de41"
   }
  }
 },
 "nbformat": 4,
 "nbformat_minor": 2
}
