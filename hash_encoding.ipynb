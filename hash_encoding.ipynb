{
 "cells": [
  {
   "cell_type": "markdown",
   "metadata": {},
   "source": [
    "# Multiresolution Hash Encoding"
   ]
  },
  {
   "cell_type": "code",
   "execution_count": 1,
   "metadata": {},
   "outputs": [
    {
     "name": "stderr",
     "output_type": "stream",
     "text": [
      "WARNING:absl:No GPU/TPU found, falling back to CPU. (Set TF_CPP_MIN_LOG_LEVEL=0 and rerun for more info.)\n"
     ]
    },
    {
     "data": {
      "image/png": "[encoded data removed]",
      "text/plain": [
       "<Figure size 450x216 with 3 Axes>"
      ]
     },
     "metadata": {
      "needs_background": "light"
     },
     "output_type": "display_data"
    }
   ],
   "source": [
    "import jax\n",
    "import jax.numpy as jnp\n",
    "import jax.random as jrandom\n",
    "from jax.config import config\n",
    "config.update(\"jax_enable_x64\", True)  # TODO how to embrace int32 overflow for hashing in JAX?\n",
    "import numpy as np\n",
    "import matplotlib.pyplot as plt\n",
    "from IPython.display import clear_output\n",
    "%matplotlib inline\n",
    "import functools as ft\n",
    "import optax\n",
    "import treex as tx\n",
    "from sdf_jax import plot2d, discretize2d\n",
    "from sdf_jax import SimpleNeuralSDF, train_step\n",
    "\n",
    "\n",
    "def sdf_sphere(x):\n",
    "    return jnp.linalg.norm(x) - 1\n",
    "\n",
    "plot2d(sdf_sphere, ngrid=20)"
   ]
  },
  {
   "cell_type": "markdown",
   "metadata": {},
   "source": [
    "## Benchmark Multiresolution Hash Enconding"
   ]
  },
  {
   "cell_type": "code",
   "execution_count": 2,
   "metadata": {},
   "outputs": [
    {
     "data": {
      "text/plain": [
       "(16, 16384, 2)"
      ]
     },
     "execution_count": 2,
     "metadata": {},
     "output_type": "execute_result"
    }
   ],
   "source": [
    "import hash_encoding\n",
    "# x = jnp.array([1.1, 2.2, 1.3])\n",
    "x = jnp.array([1.1, 2.2])\n",
    "key = jrandom.PRNGKey(1234)\n",
    "key, theta_key = jrandom.split(key, 2)\n",
    "theta = hash_encoding.init_encoding(theta_key)\n",
    "theta.shape"
   ]
  },
  {
   "cell_type": "code",
   "execution_count": 3,
   "metadata": {},
   "outputs": [
    {
     "data": {
      "text/plain": [
       "DeviceArray([[-5.02064431e-05, -3.78377564e-05],\n",
       "             [ 2.09385879e-05, -7.26148374e-05],\n",
       "             [-5.44960162e-05, -3.84142273e-05],\n",
       "             [ 3.74598273e-05,  4.70688338e-05],\n",
       "             [ 1.87281665e-06,  9.01920669e-05],\n",
       "             [-6.58134153e-05, -6.18476603e-05],\n",
       "             [-1.63026143e-05,  3.98630744e-06],\n",
       "             [-4.74615360e-05,  3.69736602e-05],\n",
       "             [-6.68170620e-05,  1.48532401e-05],\n",
       "             [ 4.88814254e-06,  3.70853059e-05],\n",
       "             [-5.74407955e-05, -5.06138501e-05],\n",
       "             [ 2.37758160e-06, -1.05089996e-05],\n",
       "             [ 6.40706054e-06,  3.12502505e-05],\n",
       "             [-2.93182706e-05,  2.58453747e-05],\n",
       "             [-3.32286563e-06, -3.38646269e-05],\n",
       "             [-3.75017244e-05, -2.83093781e-05]], dtype=float64)"
      ]
     },
     "execution_count": 3,
     "metadata": {},
     "output_type": "execute_result"
    }
   ],
   "source": [
    "hash_encoding.encode(x, theta).block_until_ready()"
   ]
  },
  {
   "cell_type": "code",
   "execution_count": 4,
   "metadata": {},
   "outputs": [
    {
     "name": "stdout",
     "output_type": "stream",
     "text": [
      "8.89 µs ± 940 ns per loop (mean ± std. dev. of 7 runs, 100,000 loops each)\n"
     ]
    }
   ],
   "source": [
    "%timeit hash_encoding.encode(x, theta).block_until_ready()"
   ]
  },
  {
   "cell_type": "code",
   "execution_count": 5,
   "metadata": {},
   "outputs": [
    {
     "data": {
      "text/plain": [
       "(1000000, 16, 2)"
      ]
     },
     "execution_count": 5,
     "metadata": {},
     "output_type": "execute_result"
    }
   ],
   "source": [
    "@jax.jit\n",
    "def encode_batch(x, theta):\n",
    "    return jax.vmap(lambda x: hash_encoding.encode(x, theta))(x)\n",
    "\n",
    "key, xs_key = jrandom.split(key, 2)\n",
    "xs = jrandom.uniform(xs_key, (1_000_000, 3))\n",
    "encode_batch(xs, theta).shape"
   ]
  },
  {
   "cell_type": "code",
   "execution_count": 6,
   "metadata": {},
   "outputs": [
    {
     "name": "stdout",
     "output_type": "stream",
     "text": [
      "1.16 s ± 17 ms per loop (mean ± std. dev. of 7 runs, 1 loop each)\n"
     ]
    }
   ],
   "source": [
    "%timeit encode_batch(xs, theta).block_until_ready()"
   ]
  },
  {
   "cell_type": "code",
   "execution_count": 8,
   "metadata": {},
   "outputs": [
    {
     "name": "stdout",
     "output_type": "stream",
     "text": [
      "465 ms ± 9.21 ms per loop (mean ± std. dev. of 7 runs, 1 loop each)\n"
     ]
    }
   ],
   "source": [
    "xs = jrandom.uniform(xs_key, (1_000_000, 2))\n",
    "%timeit encode_batch(xs, theta).block_until_ready()"
   ]
  },
  {
   "cell_type": "markdown",
   "metadata": {},
   "source": [
    "## Use in SDF"
   ]
  },
  {
   "cell_type": "code",
   "execution_count": 17,
   "metadata": {},
   "outputs": [
    {
     "data": {
      "text/plain": [
       "(32,)"
      ]
     },
     "execution_count": 17,
     "metadata": {},
     "output_type": "execute_result"
    }
   ],
   "source": [
    "class HashEmbedding(tx.Module):\n",
    "    theta: jnp.ndarray = tx.Parameter.node()\n",
    "\n",
    "    def __init__(\n",
    "        self, \n",
    "        levels: int=16, \n",
    "        hashmap_size_log2: int=14, \n",
    "        features_per_entry: int=2,\n",
    "    ):\n",
    "        self.levels = levels\n",
    "        self.hashmap_size_log2 = hashmap_size_log2\n",
    "        self.features_per_entry = features_per_entry\n",
    "\n",
    "    def __call__(self, x):\n",
    "        assert x.ndim == 1\n",
    "        if self.initializing():\n",
    "            hashmap_size = 1 << self.hashmap_size_log2\n",
    "            key = tx.next_key()\n",
    "            self.theta = jrandom.uniform(\n",
    "                key, \n",
    "                (self.levels, hashmap_size, self.features_per_entry), \n",
    "                minval=-0.0001, \n",
    "                maxval=0.0001\n",
    "            )\n",
    "        \n",
    "        return hash_encoding.encode(x, self.theta).reshape(-1)\n",
    "\n",
    "emb = HashEmbedding().init(key=42, inputs=x)\n",
    "emb(x).shape"
   ]
  },
  {
   "cell_type": "code",
   "execution_count": 33,
   "metadata": {},
   "outputs": [
    {
     "data": {
      "text/plain": [
       "DeviceArray(0.19099818, dtype=float32)"
      ]
     },
     "execution_count": 33,
     "metadata": {},
     "output_type": "execute_result"
    }
   ],
   "source": [
    "model = tx.Sequential(\n",
    "    HashEmbedding(),\n",
    "    tx.Linear(64),\n",
    "    jax.nn.softplus,\n",
    "    tx.Linear(1),\n",
    "    lambda x: x[0]\n",
    ").init(key=42, inputs=x)\n",
    "model(x)"
   ]
  },
  {
   "cell_type": "code",
   "execution_count": 34,
   "metadata": {},
   "outputs": [
    {
     "data": {
      "image/png": "[encoded data removed]",
      "text/plain": [
       "<Figure size 450x216 with 3 Axes>"
      ]
     },
     "metadata": {
      "needs_background": "light"
     },
     "output_type": "display_data"
    }
   ],
   "source": [
    "plot2d(model, ngrid=50)"
   ]
  },
  {
   "cell_type": "code",
   "execution_count": 49,
   "metadata": {},
   "outputs": [
    {
     "data": {
      "application/vnd.jupyter.widget-view+json": {
       "model_id": "b5783a022e3c494c9ae9d8e0e3ea2981",
       "version_major": 2,
       "version_minor": 0
      },
      "text/plain": [
       "  0%|          | 0/2000 [00:00<?, ?it/s]"
      ]
     },
     "metadata": {},
     "output_type": "display_data"
    },
    {
     "name": "stdout",
     "output_type": "stream",
     "text": [
      "[0] loss: 2.0474\n",
      "[200] loss: 0.6346\n",
      "[400] loss: 1.3385\n",
      "[600] loss: 2.0057\n",
      "[800] loss: 1.9099\n",
      "[1000] loss: 0.5920\n",
      "[1200] loss: 1.0846\n",
      "[1400] loss: 0.8798\n",
      "[1600] loss: 0.7223\n",
      "[1800] loss: 0.6475\n"
     ]
    },
    {
     "data": {
      "image/png": "[encoded data removed]",
      "text/plain": [
       "<Figure size 450x216 with 3 Axes>"
      ]
     },
     "metadata": {
      "needs_background": "light"
     },
     "output_type": "display_data"
    }
   ],
   "source": [
    "from sdf_jax import train_step, print_callback\n",
    "from tqdm.notebook import tqdm\n",
    "\n",
    "def fit(\n",
    "    sdf=sdf_sphere,\n",
    "    xy_lims=(-2, 2),\n",
    "    ngrid=20,\n",
    "    # module\n",
    "    act=jax.nn.relu,\n",
    "    # optimizer\n",
    "    key=jrandom.PRNGKey(1234),\n",
    "    lr=5e-3,\n",
    "    steps=100,\n",
    "    # utils\n",
    "    cb=print_callback,\n",
    "    cb_every=10,\n",
    "):\n",
    "    xs, ys = discretize2d(sdf, xy_lims=xy_lims, ngrid=ngrid)\n",
    "    xs = xs.reshape(-1, 2)\n",
    "    ys = ys.reshape(-1)\n",
    "    key, model_key = jrandom.split(key, 2)\n",
    "    model = tx.Sequential(\n",
    "        HashEmbedding(),\n",
    "        tx.Linear(64),\n",
    "        act,\n",
    "        tx.Linear(64),\n",
    "        act,\n",
    "        tx.Linear(1),\n",
    "        lambda x: x[0]\n",
    "    ).init(key=model_key, inputs=xs[0])\n",
    "    optimizer = tx.Optimizer(optax.adam(lr, b1=0.9, b2=0.99, eps=1e-15))\n",
    "    optimizer = optimizer.init(model.filter(tx.Parameter))\n",
    "    for step in tqdm(range(steps)):\n",
    "        loss, model, optimizer = train_step(model, xs, ys, optimizer)\n",
    "        if step % cb_every == 0:\n",
    "            cb(step, loss, model, optimizer)\n",
    "    return loss, model\n",
    "\n",
    "loss, model = fit(lr=1e-4, steps=2000, cb_every=200)\n",
    "plot2d(model, ngrid=50)"
   ]
  },
  {
   "cell_type": "code",
   "execution_count": 59,
   "metadata": {},
   "outputs": [
    {
     "data": {
      "application/vnd.jupyter.widget-view+json": {
       "model_id": "e8c75b7cb3704825b0dff2180328dbc6",
       "version_major": 2,
       "version_minor": 0
      },
      "text/plain": [
       "  0%|          | 0/500 [00:00<?, ?it/s]"
      ]
     },
     "metadata": {},
     "output_type": "display_data"
    },
    {
     "name": "stdout",
     "output_type": "stream",
     "text": [
      "[0] loss: 0.8692\n",
      "[100] loss: 0.3850\n",
      "[200] loss: 0.0668\n",
      "[300] loss: 0.0107\n",
      "[400] loss: 0.0031\n"
     ]
    },
    {
     "data": {
      "image/png": "[encoded data removed]",
      "text/plain": [
       "<Figure size 450x216 with 3 Axes>"
      ]
     },
     "metadata": {
      "needs_background": "light"
     },
     "output_type": "display_data"
    }
   ],
   "source": [
    "# it seems coordinates matter a lot.\n",
    "# is the unit square a default assumption ?\n",
    "# TODO investigate / think\n",
    "\n",
    "def sdf_sphere2(x):\n",
    "    center = np.array([0.5, 0.5])\n",
    "    radius = 0.3\n",
    "    return jnp.linalg.norm(x - center) - radius\n",
    "\n",
    "loss, model = fit(\n",
    "    sdf_sphere2, \n",
    "    xy_lims=(0,1),\n",
    "    lr=1e-4, \n",
    "    steps=500, \n",
    "    cb_every=100,\n",
    ")\n",
    "plot2d(model, ngrid=20, xy_lims=(0,1))"
   ]
  },
  {
   "cell_type": "code",
   "execution_count": 62,
   "metadata": {},
   "outputs": [
    {
     "data": {
      "image/png": "[encoded data removed]",
      "text/plain": [
       "<Figure size 450x216 with 3 Axes>"
      ]
     },
     "metadata": {
      "needs_background": "light"
     },
     "output_type": "display_data"
    }
   ],
   "source": [
    "plot2d(sdf_sphere2, ngrid=20, xy_lims=(0,1))"
   ]
  },
  {
   "cell_type": "code",
   "execution_count": null,
   "metadata": {},
   "outputs": [],
   "source": []
  }
 ],
 "metadata": {
  "kernelspec": {
   "display_name": "Python 3.8.13 ('cg')",
   "language": "python",
   "name": "python3"
  },
  "language_info": {
   "codemirror_mode": {
    "name": "ipython",
    "version": 3
   },
   "file_extension": ".py",
   "mimetype": "text/x-python",
   "name": "python",
   "nbconvert_exporter": "python",
   "pygments_lexer": "ipython3",
   "version": "3.8.13"
  },
  "orig_nbformat": 4,
  "vscode": {
   "interpreter": {
    "hash": "d1a8db72fa245dceca58952337fc626e5e0d3c2b0fa1111097c70d5deb51de41"
   }
  }
 },
 "nbformat": 4,
 "nbformat_minor": 2
}
